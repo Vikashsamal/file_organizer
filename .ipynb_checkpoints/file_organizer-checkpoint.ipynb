{
 "cells": [
  {
   "cell_type": "code",
   "execution_count": 1,
   "id": "041ac239",
   "metadata": {},
   "outputs": [],
   "source": [
    "import os, sys\n",
    "import shutil"
   ]
  },
  {
   "cell_type": "code",
   "execution_count": null,
   "id": "55b84f65",
   "metadata": {},
   "outputs": [],
   "source": [
    "# This function check for file's extension.\n",
    "\n",
    "def get_file_extension(filename):\n",
    "    _, extension = os.path.splitext(filename)\n",
    "    return extension\n",
    "\n",
    "# Create Directory \n",
    "\n",
    "def create_directory(directory_path):\n",
    "    if not os.path.exists(directory_path):\n",
    "        os.makedirs(directory_path)\n",
    "        \n",
    "# Organise complete files\n",
    "\n",
    "def organize_files(source_dir):\n",
    "    if not os.path.exists(source_dir):\n",
    "        print(\"Source directory not exists\")\n",
    "        return\n",
    "    \n",
    "    for filename in os.listdir(source_dir):\n",
    "        file_path = os.path.join(source_dir, filename)\n",
    "        \n",
    "        if os.path.isfile(file_path):\n",
    "            extension = get_file_extension(filename)\n",
    "            if extension:\n",
    "                destination_directory = os.path.join(source_dir, extension[1:])\n",
    "                create_directory(destination_directory)\n",
    "                \n",
    "            try:\n",
    "                shutil.move(file_path, os.path.join(destination_directory, filename))\n",
    "                print(f\"moved '{filename}' to ''{destination_directory}'\")\n",
    "            except Exception as e:\n",
    "                print(f\"Error during moving '{filename}' to '{destination_directory}': {e}\")\n",
    "                \n",
    "            else:\n",
    "                print(f\"Skipped '{filename}' as it doesn't have any extension.\")\n",
    "            \n",
    "        else:\n",
    "            print(f\"Skipped '{filename}' as it is not a file.\")\n",
    "        \n",
    "    print(\"our files are organized.\")\n",
    "                "
   ]
  },
  {
   "cell_type": "code",
   "execution_count": null,
   "id": "c3274f81",
   "metadata": {},
   "outputs": [],
   "source": [
    "\n"
   ]
  },
  {
   "cell_type": "code",
   "execution_count": null,
   "id": "1e5ba4c8",
   "metadata": {},
   "outputs": [],
   "source": []
  },
  {
   "cell_type": "code",
   "execution_count": null,
   "id": "bdc998fb",
   "metadata": {},
   "outputs": [],
   "source": []
  },
  {
   "cell_type": "code",
   "execution_count": null,
   "id": "fae1ce1f",
   "metadata": {},
   "outputs": [],
   "source": []
  }
 ],
 "metadata": {
  "kernelspec": {
   "display_name": "Python 3 (ipykernel)",
   "language": "python",
   "name": "python3"
  },
  "language_info": {
   "codemirror_mode": {
    "name": "ipython",
    "version": 3
   },
   "file_extension": ".py",
   "mimetype": "text/x-python",
   "name": "python",
   "nbconvert_exporter": "python",
   "pygments_lexer": "ipython3",
   "version": "3.10.9"
  }
 },
 "nbformat": 4,
 "nbformat_minor": 5
}
