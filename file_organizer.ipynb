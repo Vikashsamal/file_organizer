{
 "cells": [
  {
   "cell_type": "code",
   "execution_count": 1,
   "id": "041ac239",
   "metadata": {},
   "outputs": [],
   "source": [
    "import os, sys\n",
    "import shutil"
   ]
  },
  {
   "cell_type": "code",
   "execution_count": 3,
   "id": "55b84f65",
   "metadata": {},
   "outputs": [
    {
     "name": "stdout",
     "output_type": "stream",
     "text": [
      "Enter your Source Directory: /Users/bikashsmac/Downloads/Test_Folder\n",
      "moved 'DSC_0014 (1).jpg' to ''/Users/bikashsmac/Downloads/Test_Folder/jpg'\n",
      "Skipped 'DSC_0014 (1).jpg' as it doesn't have any extension.\n",
      "moved 'Finxter_WorldsMostDensePythonCheatSheet.pdf' to ''/Users/bikashsmac/Downloads/Test_Folder/pdf'\n",
      "Skipped 'Finxter_WorldsMostDensePythonCheatSheet.pdf' as it doesn't have any extension.\n",
      "moved 'CheatSheet-Python-7_-NumPy-1.pdf' to ''/Users/bikashsmac/Downloads/Test_Folder/pdf'\n",
      "Skipped 'CheatSheet-Python-7_-NumPy-1.pdf' as it doesn't have any extension.\n",
      "moved 'jJWQKEtKQkTSmtDAH48LQW.txt' to ''/Users/bikashsmac/Downloads/Test_Folder/txt'\n",
      "Skipped 'jJWQKEtKQkTSmtDAH48LQW.txt' as it doesn't have any extension.\n",
      "moved 'Finxter-Python-Cheat-Sheet-Complex-Data-Types.pdf' to ''/Users/bikashsmac/Downloads/Test_Folder/pdf'\n",
      "Skipped 'Finxter-Python-Cheat-Sheet-Complex-Data-Types.pdf' as it doesn't have any extension.\n",
      "moved 'resume_012.docx' to ''/Users/bikashsmac/Downloads/Test_Folder/docx'\n",
      "Skipped 'resume_012.docx' as it doesn't have any extension.\n",
      "moved 'Finxter_OpenAI_Python_API.pdf' to ''/Users/bikashsmac/Downloads/Test_Folder/pdf'\n",
      "Skipped 'Finxter_OpenAI_Python_API.pdf' as it doesn't have any extension.\n",
      "moved 'Bikash_SME.docx' to ''/Users/bikashsmac/Downloads/Test_Folder/docx'\n",
      "Skipped 'Bikash_SME.docx' as it doesn't have any extension.\n",
      "moved 'The Nun II 2023 CAM 720p Hindi AAC 2.0 x264 - mkvCinemas.mkv' to ''/Users/bikashsmac/Downloads/Test_Folder/mkv'\n",
      "Skipped 'The Nun II 2023 CAM 720p Hindi AAC 2.0 x264 - mkvCinemas.mkv' as it doesn't have any extension.\n",
      "moved 'template.py' to ''/Users/bikashsmac/Downloads/Test_Folder/py'\n",
      "Skipped 'template.py' as it doesn't have any extension.\n",
      "moved 'Master_SQL_For_DataScience_data-1688264088985.csv' to ''/Users/bikashsmac/Downloads/Test_Folder/csv'\n",
      "Skipped 'Master_SQL_For_DataScience_data-1688264088985.csv' as it doesn't have any extension.\n",
      "moved 'main.py' to ''/Users/bikashsmac/Downloads/Test_Folder/py'\n",
      "Skipped 'main.py' as it doesn't have any extension.\n",
      "our files are organized.\n"
     ]
    }
   ],
   "source": [
    "# This function check for file's extension.\n",
    "\n",
    "def get_file_extension(filename):\n",
    "    _, extension = os.path.splitext(filename)\n",
    "    return extension\n",
    "\n",
    "# Create Directory \n",
    "\n",
    "def create_directory(directory_path):\n",
    "    if not os.path.exists(directory_path):\n",
    "        os.makedirs(directory_path)\n",
    "        \n",
    "# Organise complete files\n",
    "\n",
    "def organize_files(source_dir):\n",
    "    if not os.path.exists(source_dir):\n",
    "        print(\"Source directory not exists\")\n",
    "        return\n",
    "# Used to get the list of all file and directory in the specified directory. \n",
    "    for filename in os.listdir(source_dir):\n",
    "        file_path = os.path.join(source_dir, filename)\n",
    "        \n",
    "# Checking whether the file path exists or not.\n",
    "        if os.path.isfile(file_path):\n",
    "            extension = get_file_extension(filename)\n",
    "            if extension:\n",
    "                destination_directory = os.path.join(source_dir, extension[1:])\n",
    "                create_directory(destination_directory)\n",
    "                \n",
    "            try:\n",
    "                shutil.move(file_path, os.path.join(destination_directory, filename))\n",
    "                print(f\"moved '{filename}' to ''{destination_directory}'\")\n",
    "            except Exception as e:\n",
    "                print(f\"Error during moving '{filename}' to '{destination_directory}': {e}\")\n",
    "                \n",
    "            else:\n",
    "                print(f\"Skipped '{filename}' as it doesn't have any extension.\")\n",
    "            \n",
    "        else:\n",
    "            print(f\"Skipped '{filename}' as it is not a file.\")\n",
    "        \n",
    "    print(\"our files are organized.\")\n",
    "    \n",
    "if __name__ == \"__main__\":\n",
    "    source_dir = input(\"Enter your Source Directory: \")\n",
    "    organize_files(source_dir)\n",
    "                "
   ]
  },
  {
   "cell_type": "code",
   "execution_count": null,
   "id": "c3274f81",
   "metadata": {},
   "outputs": [],
   "source": [
    "\n"
   ]
  },
  {
   "cell_type": "code",
   "execution_count": null,
   "id": "1e5ba4c8",
   "metadata": {},
   "outputs": [],
   "source": []
  },
  {
   "cell_type": "code",
   "execution_count": null,
   "id": "bdc998fb",
   "metadata": {},
   "outputs": [],
   "source": []
  },
  {
   "cell_type": "code",
   "execution_count": null,
   "id": "fae1ce1f",
   "metadata": {},
   "outputs": [],
   "source": []
  }
 ],
 "metadata": {
  "kernelspec": {
   "display_name": "Python 3 (ipykernel)",
   "language": "python",
   "name": "python3"
  },
  "language_info": {
   "codemirror_mode": {
    "name": "ipython",
    "version": 3
   },
   "file_extension": ".py",
   "mimetype": "text/x-python",
   "name": "python",
   "nbconvert_exporter": "python",
   "pygments_lexer": "ipython3",
   "version": "3.10.9"
  }
 },
 "nbformat": 4,
 "nbformat_minor": 5
}
